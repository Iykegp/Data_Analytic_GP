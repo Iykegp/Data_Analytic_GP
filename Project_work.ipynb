{
 "cells": [
  {
   "cell_type": "code",
   "execution_count": 57,
   "id": "fb8ebd6a",
   "metadata": {},
   "outputs": [],
   "source": [
    "from sklearn.feature_extraction.text import CountVectorizer\n",
    "from sklearn import tree\n",
    "from sklearn import svm\n",
    "from sklearn import metrics\n",
    "from sklearn.neighbors import KNeighborsClassifier\n",
    "from sklearn.ensemble import RandomForestClassifier\n",
    "from sklearn.naive_bayes import MultinomialNB\n",
    "from sklearn.linear_model import LogisticRegression\n",
    "from matplotlib import pyplot as plt\n",
    "from matplotlib import colors\n",
    "import numpy as np\n",
    "import pandas as pd\n"
   ]
  },
  {
   "cell_type": "code",
   "execution_count": 26,
   "id": "bbc0935c",
   "metadata": {},
   "outputs": [
    {
     "name": "stdout",
     "output_type": "stream",
     "text": [
      "Classification report for Support Vector Machine\n",
      "              precision    recall  f1-score   support\n",
      "\n",
      "           1       0.72      0.45      0.55      3469\n",
      "           2       0.60      0.04      0.08      2087\n",
      "           3       0.80      0.98      0.88     14443\n",
      "\n",
      "    accuracy                           0.79     19999\n",
      "   macro avg       0.71      0.49      0.50     19999\n",
      "weighted avg       0.76      0.79      0.74     19999\n",
      "\n"
     ]
    },
    {
     "data": {
      "text/plain": [
       "0.7890394519725986"
      ]
     },
     "execution_count": 26,
     "metadata": {},
     "output_type": "execute_result"
    }
   ],
   "source": [
    "# create a dictionary to hold all the companies and their android ids\n",
    "companies = {\n",
    "    \"AAD_1\": [\"B004NWLM8K\", \"B004Q1NH4U\", \"B004LPBTAA\"],\n",
    "    \"AAD_2\": [\"B004S6NAOU\", \"B004R6HTWU\", \"B004N8KDNY\"], \n",
    "    \"AAD_3\": [\"B004KA0RBS\", \"B004NPELDA\", \"B004L26XXQ\"],\n",
    "}\n",
    "\n",
    "\n",
    "# create a dictionary to hold all the review texts of all the 3 android apps for each company\n",
    "company_data_review = { \"AAD_1\": [], \"AAD_2\": [], \"AAD_3\": [], }\n",
    "\n",
    "# create a dictionary to hold all the review outcome (positive, negative, neutral) of all the 3 android apps for each company\n",
    "company_data_label = { \"AAD_1\": [], \"AAD_2\": [], \"AAD_3\": [], }\n",
    "\n",
    "#  load csv file for train data\n",
    "\n",
    "def load_Csv(filename):\n",
    "    # create a list variable to store all the reviews\n",
    "    reviews = []\n",
    "    # create a list variable to store all the labels\n",
    "    labels = []\n",
    "    # open the file given\n",
    "    \n",
    "    file = open(filename, 'r')\n",
    "    # read each line from file\n",
    "    lines = file.readlines()\n",
    "    \n",
    "    # loop through lines\n",
    "    for line in lines:\n",
    "        # split line based on tab\n",
    "        splitLine = line.split('\\t')\n",
    "        # append the review text which is at index 2 into the reviews list\n",
    "        reviews.append(splitLine[2])\n",
    "        # append the label text which is at index 0 into the labels list\n",
    "        labels.append(splitLine[0])\n",
    "\n",
    "    # return list of reviews and labels as a tuple\n",
    "    return reviews, labels\n",
    "    \n",
    "train_Review, train_Labels = load_Csv('C:/Users/iykeg/OneDrive/Desktop/APPLICATION OF BIG DATA/CW2/Traind.csv')\n",
    "count_vect = CountVectorizer(max_features=10000)\n",
    "\n",
    "#Text preprocessing, tokenizing and filtering of stopwords are all included in CountVectorizer\n",
    "\n",
    "Train_counts = count_vect.fit_transform(train_Review)\n",
    "training_words = count_vect.get_feature_names()\n",
    "\n",
    "count_vect_test = CountVectorizer( vocabulary=training_words)\n",
    "\n",
    "test_Review, test_Labels = load_Csv('C:/Users/iykeg/OneDrive/Desktop/APPLICATION OF BIG DATA/CW2/Testd.csv')\n",
    "\n",
    "#defining the support vector machine classifier\n",
    "\n",
    "classifier = svm.SVC(kernel = 'rbf')\n",
    "\n",
    "Test_counts = count_vect_test.fit_transform(test_Review)\n",
    "\n",
    "#Training the SVM\n",
    "\n",
    "classifier.fit(Train_counts, train_Labels)\n",
    "\n",
    "reviewed_table = {}\n",
    "\n",
    "#Performance evaluation by displaying the precision, recall, F1-score and support for each\n",
    "#class.\n",
    "#get predictions\n",
    "\n",
    "predicted = classifier.predict(Test_counts)\n",
    "confusion = metrics.classification_report(test_Labels, predicted)\n",
    "\n",
    "print(\"Classification report for Support Vector Machine\")\n",
    "\n",
    "#summarizing it in table form\n",
    "\n",
    "print(confusion)\n",
    "np.mean(predicted == test_Labels)\n"
   ]
  },
  {
   "cell_type": "code",
   "execution_count": 5,
   "id": "7a9e95fa",
   "metadata": {},
   "outputs": [
    {
     "name": "stdout",
     "output_type": "stream",
     "text": [
      "Classification report for K-Neighbors\n",
      "              precision    recall  f1-score   support\n",
      "\n",
      "           1       0.51      0.16      0.24      3469\n",
      "           2       0.24      0.06      0.09      2087\n",
      "           3       0.75      0.96      0.84     14443\n",
      "\n",
      "    accuracy                           0.73     19999\n",
      "   macro avg       0.50      0.39      0.39     19999\n",
      "weighted avg       0.65      0.73      0.66     19999\n",
      "\n"
     ]
    },
    {
     "data": {
      "text/plain": [
       "0.7251362568128407"
      ]
     },
     "execution_count": 5,
     "metadata": {},
     "output_type": "execute_result"
    }
   ],
   "source": [
    "classifier = KNeighborsClassifier(n_neighbors=8)\n",
    "\n",
    "Test_counts = count_vect_test.fit_transform(test_Review)\n",
    "\n",
    "classifier.fit(Train_counts, train_Labels)\n",
    "\n",
    "reviewed_table = {}\n",
    "\n",
    "predicted = classifier.predict(Test_counts)\n",
    "confusion = metrics.classification_report(test_Labels, predicted)\n",
    "print(\"Classification report for K-Neighbors\")\n",
    "print(confusion)\n",
    "np.mean(predicted == test_Labels)"
   ]
  },
  {
   "cell_type": "code",
   "execution_count": 84,
   "id": "fdb03a33",
   "metadata": {},
   "outputs": [
    {
     "name": "stdout",
     "output_type": "stream",
     "text": [
      "Classification report for Decision Tree\n",
      "              precision    recall  f1-score   support\n",
      "\n",
      "           1       0.46      0.39      0.42      3469\n",
      "           2       0.22      0.20      0.21      2087\n",
      "           3       0.81      0.85      0.83     14443\n",
      "\n",
      "    accuracy                           0.71     19999\n",
      "   macro avg       0.50      0.48      0.49     19999\n",
      "weighted avg       0.69      0.71      0.70     19999\n",
      "\n"
     ]
    },
    {
     "data": {
      "text/plain": [
       "0.7050352517625881"
      ]
     },
     "execution_count": 84,
     "metadata": {},
     "output_type": "execute_result"
    }
   ],
   "source": [
    "classifier = tree.DecisionTreeClassifier()\n",
    "\n",
    "Test_counts = count_vect_test.fit_transform(test_Review)\n",
    "\n",
    "classifier.fit(Train_counts, train_Labels)\n",
    "\n",
    "reviewed_table = {}\n",
    "\n",
    "predicted = classifier.predict(Test_counts)\n",
    "confusion = metrics.classification_report(test_Labels, predicted)\n",
    "print(\"Classification report for Decision Tree\")\n",
    "print(confusion)\n",
    "np.mean(predicted == test_Labels)"
   ]
  },
  {
   "cell_type": "code",
   "execution_count": 41,
   "id": "b7e09cf8",
   "metadata": {},
   "outputs": [
    {
     "name": "stdout",
     "output_type": "stream",
     "text": [
      "Classification report for Random Forest\n",
      "              precision    recall  f1-score   support\n",
      "\n",
      "           1       0.80      0.23      0.36      3469\n",
      "           2       0.53      0.02      0.04      2087\n",
      "           3       0.76      0.99      0.86     14443\n",
      "\n",
      "    accuracy                           0.76     19999\n",
      "   macro avg       0.70      0.42      0.42     19999\n",
      "weighted avg       0.74      0.76      0.69     19999\n",
      "\n"
     ]
    },
    {
     "data": {
      "text/plain": [
       "0.75978798939947"
      ]
     },
     "execution_count": 41,
     "metadata": {},
     "output_type": "execute_result"
    }
   ],
   "source": [
    "classifier = RandomForestClassifier(n_estimators = 40)\n",
    "\n",
    "Test_counts = count_vect_test.fit_transform(test_Review)\n",
    "\n",
    "classifier.fit(Train_counts, train_Labels)\n",
    "\n",
    "reviewed_table = {}\n",
    "\n",
    "predicted = classifier.predict(Test_counts)\n",
    "confusion = metrics.classification_report(test_Labels, predicted)\n",
    "print(\"Classification report for Random Forest\")\n",
    "print(confusion)\n",
    "np.mean(predicted == test_Labels)"
   ]
  },
  {
   "cell_type": "code",
   "execution_count": 43,
   "id": "754f336b",
   "metadata": {},
   "outputs": [
    {
     "data": {
      "image/png": "[encoded data removed]",
      "text/plain": [
       "<Figure size 432x288 with 1 Axes>"
      ]
     },
     "metadata": {
      "needs_background": "light"
     },
     "output_type": "display_data"
    }
   ],
   "source": [
    "x = np.arange(4)\n",
    "plt.bar(x, height=[71,79,76,73])\n",
    "plt.xticks(x, ['DT','SVM','RF','K-NN']);"
   ]
  },
  {
   "cell_type": "code",
   "execution_count": null,
   "id": "5b8be2a8",
   "metadata": {},
   "outputs": [],
   "source": []
  },
  {
   "cell_type": "code",
   "execution_count": null,
   "id": "e3aec4ad",
   "metadata": {},
   "outputs": [],
   "source": []
  },
  {
   "cell_type": "code",
   "execution_count": null,
   "id": "db6b33c9",
   "metadata": {},
   "outputs": [],
   "source": [
    "#I USED SUPPORT VECTOR MACHINE SINCE IT GAVE ME A HIGHER PREDICTION FROM OTHER MACHINE LEARNING IMPLEMENTED"
   ]
  },
  {
   "cell_type": "code",
   "execution_count": 16,
   "id": "394ff5e4",
   "metadata": {},
   "outputs": [
    {
     "name": "stdout",
     "output_type": "stream",
     "text": [
      "Support Vector Machine\n"
     ]
    },
    {
     "data": {
      "text/html": [
       "<div>\n",
       "<style scoped>\n",
       "    .dataframe tbody tr th:only-of-type {\n",
       "        vertical-align: middle;\n",
       "    }\n",
       "\n",
       "    .dataframe tbody tr th {\n",
       "        vertical-align: top;\n",
       "    }\n",
       "\n",
       "    .dataframe thead th {\n",
       "        text-align: right;\n",
       "    }\n",
       "</style>\n",
       "<table border=\"1\" class=\"dataframe\">\n",
       "  <thead>\n",
       "    <tr style=\"text-align: right;\">\n",
       "      <th></th>\n",
       "      <th>AAD_1</th>\n",
       "      <th>AAD_2</th>\n",
       "      <th>AAD_3</th>\n",
       "    </tr>\n",
       "  </thead>\n",
       "  <tbody>\n",
       "    <tr>\n",
       "      <th>Total</th>\n",
       "      <td>107.000000</td>\n",
       "      <td>296.000000</td>\n",
       "      <td>168.000000</td>\n",
       "    </tr>\n",
       "    <tr>\n",
       "      <th>Positive</th>\n",
       "      <td>106.000000</td>\n",
       "      <td>232.000000</td>\n",
       "      <td>117.000000</td>\n",
       "    </tr>\n",
       "    <tr>\n",
       "      <th>Neutral</th>\n",
       "      <td>0.000000</td>\n",
       "      <td>5.000000</td>\n",
       "      <td>0.000000</td>\n",
       "    </tr>\n",
       "    <tr>\n",
       "      <th>Negative</th>\n",
       "      <td>1.000000</td>\n",
       "      <td>59.000000</td>\n",
       "      <td>51.000000</td>\n",
       "    </tr>\n",
       "    <tr>\n",
       "      <th>Postive Ratio</th>\n",
       "      <td>0.990654</td>\n",
       "      <td>0.783784</td>\n",
       "      <td>0.696429</td>\n",
       "    </tr>\n",
       "    <tr>\n",
       "      <th>Neutral Ratio</th>\n",
       "      <td>0.000000</td>\n",
       "      <td>0.016892</td>\n",
       "      <td>0.000000</td>\n",
       "    </tr>\n",
       "    <tr>\n",
       "      <th>Negative Ratio</th>\n",
       "      <td>0.009346</td>\n",
       "      <td>0.199324</td>\n",
       "      <td>0.303571</td>\n",
       "    </tr>\n",
       "  </tbody>\n",
       "</table>\n",
       "</div>"
      ],
      "text/plain": [
       "                     AAD_1       AAD_2       AAD_3\n",
       "Total           107.000000  296.000000  168.000000\n",
       "Positive        106.000000  232.000000  117.000000\n",
       "Neutral           0.000000    5.000000    0.000000\n",
       "Negative          1.000000   59.000000   51.000000\n",
       "Postive Ratio     0.990654    0.783784    0.696429\n",
       "Neutral Ratio     0.000000    0.016892    0.000000\n",
       "Negative Ratio    0.009346    0.199324    0.303571"
      ]
     },
     "execution_count": 16,
     "metadata": {},
     "output_type": "execute_result"
    }
   ],
   "source": [
    "companies = {\n",
    "    \"AAD_1\": [\"B004NWLM8K\", \"B004Q1NH4U\", \"B004LPBTAA\"],\n",
    "    \"AAD_2\": [\"B004S6NAOU\", \"B004R6HTWU\", \"B004N8KDNY\"], \n",
    "    \"AAD_3\": [\"B004KA0RBS\", \"B004NPELDA\", \"B004L26XXQ\"],\n",
    "}\n",
    "\n",
    "\n",
    "# create a dictionary to hold all the review texts of all the 3 android apps for each company\n",
    "company_data_review = { \"AAD_1\": [], \"AAD_2\": [], \"AAD_3\": [], }\n",
    "\n",
    "# create a dictionary to hold all the review outcome (positive, negative, neutral) of all the 3 android apps for each company\n",
    "company_data_label = { \"AAD_1\": [], \"AAD_2\": [], \"AAD_3\": [], }\n",
    "\n",
    "\n",
    "def loadtest_Csv(input_file):\n",
    "   \n",
    "    # open the file given\n",
    "    file = open(input_file, 'r')\n",
    "    # read each line from file\n",
    "    lines = file.readlines()\n",
    "    \n",
    "    # loop through lines\n",
    "    for line in lines:\n",
    "        # split line based on tab\n",
    "        splitLine = line.split('\\t')\n",
    "    \n",
    "            # get the company's android app code at index 1\n",
    "        id = splitLine[1]\n",
    "            # loop through each company\n",
    "        for company in companies:\n",
    "                # retrieve a company only if the id exists in the company dictionary defined above\n",
    "                # i.e we are only taking companies specified in this coursework\n",
    "            if id in companies[company]:\n",
    "                    # append the review text which is at index 2 into the company_data_review list of retrieved company\n",
    "                company_data_review[company].append(splitLine[2])\n",
    "                    # append the label text which is at index 2 into the company_data_label list of retrieved company\n",
    "                company_data_label[company].append(splitLine[0])\n",
    "                \n",
    "                \n",
    "train_Review, train_Labels = load_Csv('C:/Users/iykeg/OneDrive/Desktop/APPLICATION OF BIG DATA/CW2/Traind.csv')\n",
    "count_vect = CountVectorizer(max_features=10000)\n",
    "\n",
    "#Text preprocessing, tokenizing and filtering of stopwords are all included in CountVectorizer\n",
    "\n",
    "Train_counts = count_vect.fit_transform(train_Review)\n",
    "training_words = count_vect.get_feature_names()\n",
    "\n",
    "count_vect_test = CountVectorizer(vocabulary=training_words)\n",
    "\n",
    "loadtest_Csv('C:/Users/iykeg/OneDrive/Desktop/APPLICATION OF BIG DATA/CW2/Testd.csv')\n",
    "\n",
    "classifier = svm.SVC()\n",
    "\n",
    "classifier.fit(Train_counts, train_Labels)\n",
    "\n",
    "reviewed_table = {}\n",
    "\n",
    "for test_review in company_data_review:\n",
    "    new_counts = count_vect_test.fit_transform(company_data_review[test_review])\n",
    "    predicted = classifier.predict(new_counts)\n",
    "    Positive = [lbl for lbl in predicted if lbl == '3']\n",
    "    Neutral = [lbl for lbl in predicted if lbl == '2']\n",
    "    Negative = [lbl for lbl in predicted if lbl == '1']\n",
    "    reviewed_table[test_review] = [len(predicted), len(Positive), len(Neutral), len(Negative), len(Positive)/len(predicted), len(Neutral)/len(predicted), len(Negative)/len(predicted)]\n",
    "\n",
    "\n",
    "    \n",
    "table = pd.DataFrame.from_dict(reviewed_table)\n",
    "table.index = ['Total', 'Positive', 'Neutral', 'Negative', 'Postive Ratio', 'Neutral Ratio', 'Negative Ratio']\n",
    "print(\"Support Vector Machine\")\n",
    "table"
   ]
  },
  {
   "cell_type": "code",
   "execution_count": 59,
   "id": "b1346fe4",
   "metadata": {},
   "outputs": [
    {
     "data": {
      "image/png": "[encoded data removed]",
      "text/plain": [
       "<Figure size 432x288 with 1 Axes>"
      ]
     },
     "metadata": {
      "needs_background": "light"
     },
     "output_type": "display_data"
    }
   ],
   "source": [
    "plt.grid( axis='y', alpha=0.75)\n",
    "plt.xlabel('AAD_1')\n",
    "plt.ylabel('N0 of Review')\n",
    "plt.title('')\n",
    "x = np.arange(3)\n",
    "plt.bar(x, height=[106,1,0])\n",
    "plt.xticks(x, ['Positive','Negative','Neutral']);\n"
   ]
  },
  {
   "cell_type": "code",
   "execution_count": 61,
   "id": "20c740b2",
   "metadata": {},
   "outputs": [
    {
     "data": {
      "image/png": "[encoded data removed]",
      "text/plain": [
       "<Figure size 432x288 with 1 Axes>"
      ]
     },
     "metadata": {
      "needs_background": "light"
     },
     "output_type": "display_data"
    }
   ],
   "source": [
    "plt.grid( axis='y', alpha=0.75)\n",
    "plt.xlabel('AAD_2')\n",
    "plt.ylabel('N0 of Review')\n",
    "x = np.arange(3)\n",
    "plt.bar(x, height=[232,59,5])\n",
    "plt.xticks(x, ['Positive','Negative','Neutral']);"
   ]
  },
  {
   "cell_type": "code",
   "execution_count": 62,
   "id": "0427c76c",
   "metadata": {},
   "outputs": [
    {
     "data": {
      "image/png": "[encoded data removed]",
      "text/plain": [
       "<Figure size 432x288 with 1 Axes>"
      ]
     },
     "metadata": {
      "needs_background": "light"
     },
     "output_type": "display_data"
    }
   ],
   "source": [
    "plt.grid( axis='y', alpha=0.75)\n",
    "plt.xlabel('AAD_3')\n",
    "plt.ylabel('N0 of Review')\n",
    "plt.title('')\n",
    "x = np.arange(3)\n",
    "plt.bar(x, height=[117,51,0])\n",
    "plt.xticks(x, ['Positive','Negative','Neutral']);"
   ]
  },
  {
   "cell_type": "code",
   "execution_count": null,
   "id": "90ec75eb",
   "metadata": {},
   "outputs": [],
   "source": []
  },
  {
   "cell_type": "code",
   "execution_count": null,
   "id": "f00a1860",
   "metadata": {},
   "outputs": [],
   "source": []
  },
  {
   "cell_type": "code",
   "execution_count": null,
   "id": "d4c3235f",
   "metadata": {},
   "outputs": [],
   "source": []
  },
  {
   "cell_type": "code",
   "execution_count": null,
   "id": "054f9a87",
   "metadata": {},
   "outputs": [],
   "source": []
  }
 ],
 "metadata": {
  "kernelspec": {
   "display_name": "Python 3 (ipykernel)",
   "language": "python",
   "name": "python3"
  },
  "language_info": {
   "codemirror_mode": {
    "name": "ipython",
    "version": 3
   },
   "file_extension": ".py",
   "mimetype": "text/x-python",
   "name": "python",
   "nbconvert_exporter": "python",
   "pygments_lexer": "ipython3",
   "version": "3.9.7"
  }
 },
 "nbformat": 4,
 "nbformat_minor": 5
}
